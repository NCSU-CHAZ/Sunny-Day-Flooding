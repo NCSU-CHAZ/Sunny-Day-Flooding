{
 "cells": [
  {
   "cell_type": "markdown",
   "metadata": {},
   "source": [
    "<img style=\"float: left;\" alt=\"Drawing\" src=\"./figures/3Di_beeldmerk_RGB.png\" width=\"100\"/>"
   ]
  },
  {
   "cell_type": "markdown",
   "metadata": {},
   "source": [
    "## From starting a 3Di-simulation to downloading and analysing the results in a jupyter notebook"
   ]
  },
  {
   "cell_type": "markdown",
   "metadata": {},
   "source": [
    "Welcome! In this notebook we will show you how to start a <a href=\"https://3diwatermanagement.com/\">3Di</a>-simulation in a jupyter notebook by using the API-v3. In addition, we will show you how to download, visualize and analyse the results of the 3Di-simulation.\n",
    "\n",
    "The following steps will be taken according to an example of an 3Di model:\n",
    "- **step 1:** Creating a 3Di-simulation by using the threedi-api\n",
    "- **step 2:** Adding events to this 3Di-simulation by using the threedi-api\n",
    "- **step 3:** Running the 3Di-simulation by using the threedi-api\n",
    "- **step 4:** Downloading the results of the 3Di-simulation\n",
    "- **step 5:** Analysing the results of the simulation"
   ]
  },
  {
   "cell_type": "markdown",
   "metadata": {},
   "source": [
    "**Step 1: Starting a 3Di-simulation by using the threedi-api**"
   ]
  },
  {
   "cell_type": "markdown",
   "metadata": {},
   "source": [
    "Importing all required packages:"
   ]
  },
  {
   "cell_type": "code",
   "execution_count": 2,
   "metadata": {},
   "outputs": [],
   "source": [
    "from datetime import datetime\n",
    "from getpass import getpass\n",
    "import pandas as pd\n",
    "import json\n",
    "from threedi_api_client.threedi_api_client import ThreediApiClient\n",
    "from threedi_api_client.api import ThreediApi\n",
    "from threedi_api_client.versions import V3Api\n",
    "from pandas.io.json import json_normalize\n",
    "import matplotlib.pyplot as plt\n",
    "from datetime import datetime, timedelta\n",
    "import requests\n",
    "from pathlib import Path\n",
    "import matplotlib.pylab as pylab\n",
    "import numpy as np"
   ]
  },
  {
   "cell_type": "markdown",
   "metadata": {},
   "source": [
    "Set some figures plot parameters:"
   ]
  },
  {
   "cell_type": "code",
   "execution_count": 3,
   "metadata": {},
   "outputs": [],
   "source": [
    "plt.style.use('bmh')\n",
    "\n",
    "params = {'legend.fontsize': 'x-large',\n",
    "          'figure.figsize': (15, 15),\n",
    "         'axes.labelsize': 'x-large',\n",
    "         'axes.titlesize':'x-large',\n",
    "         'xtick.labelsize':'x-large',\n",
    "         'ytick.labelsize':'x-large'}\n",
    "pylab.rcParams.update(params) "
   ]
  },
  {
   "cell_type": "markdown",
   "metadata": {},
   "source": [
    "Provide your credentials to connect to the threedi-api. Logging in is done with the 3di api key, which can be generated and revoked via: https://management.3di.live/personal_api_keys. These need to be put into an .env file (example available in this map). Afterwards, you can log in with the following code: "
   ]
  },
  {
   "cell_type": "code",
   "execution_count": 4,
   "metadata": {},
   "outputs": [],
   "source": [
    "env_file = r\"C:\\Users\\ththelen\\OneDrive - North Carolina State University\\CarolinaBeach\\3Di\\Scripts\\authentication_TT.env\"\n",
    "THREEDI_API: V3Api = ThreediApi(env_file)"
   ]
  },
  {
   "cell_type": "markdown",
   "metadata": {},
   "source": [
    "Check the connection with your provided credentials:"
   ]
  },
  {
   "cell_type": "code",
   "execution_count": 5,
   "metadata": {},
   "outputs": [
    {
     "name": "stdout",
     "output_type": "stream",
     "text": [
      "Successfully logged in as ththelen!\n"
     ]
    }
   ],
   "source": [
    "try:\n",
    "    user = THREEDI_API.auth_profile_list()\n",
    "except ApiException as e:\n",
    "    print(\"Oops, something went wrong. Maybe you made a typo?\")\n",
    "else:\n",
    "    print(f\"Successfully logged in as {user.username}!\")"
   ]
  },
  {
   "cell_type": "markdown",
   "metadata": {},
   "source": [
    "1.3  In order to run a simulation you need a threedi-model. Let's see which threedi-models are available:"
   ]
  },
  {
   "cell_type": "code",
   "execution_count": 6,
   "metadata": {},
   "outputs": [
    {
     "name": "stdout",
     "output_type": "stream",
     "text": [
      "CB_master #56\n",
      "CB_master #54\n",
      "CB_master #53\n",
      "CB_NoDocks_V4 #4\n",
      "CB_NoDocks_V4 #3\n",
      "CB_NoDocks_V4 #2\n",
      "Thelen_CB_3 #3\n",
      "Thelen_CB_3 #2\n",
      "Thelen_CB_3 #1\n",
      "Thelen_CB_2 #1\n"
     ]
    }
   ],
   "source": [
    "models = THREEDI_API.threedimodels_list(name__icontains='CB')  # limit to the first 10 results\n",
    "for model in models.results:\n",
    "    print(f\"{model.name}\")"
   ]
  },
  {
   "cell_type": "markdown",
   "metadata": {},
   "source": [
    "In this notebook we will use one revision of the  3Di-model \"BWN Schermer\", and we can look up this model by using the following query:"
   ]
  },
  {
   "cell_type": "code",
   "execution_count": 7,
   "metadata": {
    "scrolled": true
   },
   "outputs": [
    {
     "data": {
      "text/plain": [
       "{'breach_count': '1',\n",
       " 'description': '',\n",
       " 'disabled': False,\n",
       " 'epsg': 3358,\n",
       " 'extent_one_d': {'coordinates': [[-77.89298758432503, 34.03613550525803],\n",
       "                                  [-77.88447427775391, 34.05332936686093]],\n",
       "                  'type': 'LineString'},\n",
       " 'extent_two_d': {'coordinates': [[-77.91153736750825, 34.016244390386255],\n",
       "                                  [-77.85633103791591, 34.10032463614724]],\n",
       "                  'type': 'LineString'},\n",
       " 'extent_zero_d': None,\n",
       " 'id': 58509,\n",
       " 'inp_success': True,\n",
       " 'inpy_version': '-',\n",
       " 'is_valid': True,\n",
       " 'lines_count': 97460,\n",
       " 'model_ini': ' ',\n",
       " 'name': 'CB_master #56',\n",
       " 'nodes_count': 48870,\n",
       " 'repository_slug': 'cb_master',\n",
       " 'revision': 'https://api.3di.live/v3/schematisations/6367/revisions/50244/',\n",
       " 'revision_commit_date': '2023-07-17T18:44:51.142398Z',\n",
       " 'revision_hash': '',\n",
       " 'revision_id': 50244,\n",
       " 'revision_number': '56',\n",
       " 'schematisation_id': 6367,\n",
       " 'schematisation_name': 'CB_master',\n",
       " 'slug': 'cb_master-56',\n",
       " 'storage_space': 300779849,\n",
       " 'storage_space_humanized': '300.8 MB',\n",
       " 'threedi_version': '3.2.49',\n",
       " 'url': 'https://api.3di.live/v3/threedimodels/58509/',\n",
       " 'user': 'ththelen'}"
      ]
     },
     "execution_count": 7,
     "metadata": {},
     "output_type": "execute_result"
    }
   ],
   "source": [
    "models = THREEDI_API.threedimodels_list(name__icontains='CB_master #56')\n",
    "my_model =models.results[0]\n",
    "my_model"
   ]
  },
  {
   "cell_type": "markdown",
   "metadata": {},
   "source": [
    "Now that we have a model we are almost ready to create the simulation. However, first we'll need to get an organisation under which's name we will run the simulation.\n",
    "\n",
    "Let's see which organisations are available within my user account:"
   ]
  },
  {
   "cell_type": "code",
   "execution_count": 8,
   "metadata": {},
   "outputs": [
    {
     "name": "stdout",
     "output_type": "stream",
     "text": [
      "Academic License: 086a4dfe6fbe43698e4a320c5007c053\n"
     ]
    }
   ],
   "source": [
    "#organisations = THREEDI_API.organisations_list(name__icontains='N&S Demo')\n",
    "organisations = THREEDI_API.organisations_list()\n",
    "\n",
    "for organisation in organisations.results:\n",
    "    print(f\"{organisation.name}: {organisation.unique_id}\")\n",
    "\n",
    "organisation_uuid = organisation.unique_id"
   ]
  },
  {
   "cell_type": "code",
   "execution_count": 9,
   "metadata": {},
   "outputs": [
    {
     "data": {
      "text/plain": [
       "{'count': 2,\n",
       " 'next': None,\n",
       " 'previous': None,\n",
       " 'results': [{'cloned_from': 'https://api.3di.live/v3/simulations/138845/',\n",
       "              'compute_cluster': 'k8s',\n",
       "              'created': '18 days ago',\n",
       "              'duration': 3153600000,\n",
       "              'duration_humanized': '36500 days, 0 hours, 0 minutes , 0 '\n",
       "                                    'seconds',\n",
       "              'end_datetime': datetime.datetime(2123, 6, 27, 2, 50, 53, tzinfo=tzutc()),\n",
       "              'id': 139270,\n",
       "              'name': 'CB_master #56_2023-07-21T105053',\n",
       "              'organisation': '086a4dfe6fbe43698e4a320c5007c053',\n",
       "              'organisation_name': 'Academic License',\n",
       "              'slug': 'cb_master-56_2023-07-21t105053-aab9a36e-7683-4558-b47e-8977538ce1b0',\n",
       "              'start_datetime': datetime.datetime(2023, 7, 21, 2, 50, 53, tzinfo=tzutc()),\n",
       "              'tags': [],\n",
       "              'threedicore_version': '3.2.49-3.0.0',\n",
       "              'threedimodel': 'https://api.3di.live/v3/threedimodels/58509/',\n",
       "              'threedimodel_id': 58509,\n",
       "              'url': 'https://api.3di.live/v3/simulations/139270/',\n",
       "              'user': 'vincent123',\n",
       "              'uuid': 'aab9a36e-7683-4558-b47e-8977538ce1b0'},\n",
       "             {'cloned_from': 'https://api.3di.live/v3/simulations/138623/',\n",
       "              'compute_cluster': 'k8s',\n",
       "              'created': '21 days ago',\n",
       "              'duration': 3153600000,\n",
       "              'duration_humanized': '36500 days, 0 hours, 0 minutes , 0 '\n",
       "                                    'seconds',\n",
       "              'end_datetime': datetime.datetime(2123, 6, 23, 20, 12, 43, tzinfo=tzutc()),\n",
       "              'id': 138634,\n",
       "              'name': 'CB_master #56_2023-07-17T161243',\n",
       "              'organisation': '086a4dfe6fbe43698e4a320c5007c053',\n",
       "              'organisation_name': 'Academic License',\n",
       "              'slug': 'cb_master-56_2023-07-17t161243-b61d4bc3-611c-47e5-bc06-c76ae6245e9e',\n",
       "              'start_datetime': datetime.datetime(2023, 7, 17, 20, 12, 43, tzinfo=tzutc()),\n",
       "              'tags': [],\n",
       "              'threedicore_version': '3.2.34-2.4.3',\n",
       "              'threedimodel': 'https://api.3di.live/v3/threedimodels/58457/',\n",
       "              'threedimodel_id': 58457,\n",
       "              'url': 'https://api.3di.live/v3/simulations/138634/',\n",
       "              'user': 'ththelen',\n",
       "              'uuid': 'b61d4bc3-611c-47e5-bc06-c76ae6245e9e'}]}"
      ]
     },
     "execution_count": 9,
     "metadata": {},
     "output_type": "execute_result"
    }
   ],
   "source": [
    "THREEDI_API.simulations_list(name__icontains='CB_master #56')"
   ]
  },
  {
   "cell_type": "markdown",
   "metadata": {},
   "source": [
    "1.5 Let's create the simulation of the chosen model now, with this organisation uuid. Note that it will not run yet."
   ]
  },
  {
   "cell_type": "code",
   "execution_count": 10,
   "metadata": {},
   "outputs": [],
   "source": [
    "my_simulation_template = THREEDI_API.simulation_templates_list(simulation__threedimodel__id=my_model.id).results[0]\n",
    "my_simulation = THREEDI_API.simulations_from_template(\n",
    "        data={\n",
    "            \"template\": my_simulation_template.id,\n",
    "            \"name\": \"sim_cb_master\", #3dinotebook_schermer\",\n",
    "            #\"tags\": #[\"demo_notebook_1\"],\n",
    "            \"organisation\": organisation_uuid,\n",
    "            \"start_datetime\": datetime.now(),\n",
    "            \"duration\": 3600 # in seconds, so we simulate for 1 hour\n",
    "        }\n",
    "    )"
   ]
  },
  {
   "cell_type": "markdown",
   "metadata": {},
   "source": [
    "You can check the status of the simulation with the following api call:"
   ]
  },
  {
   "cell_type": "code",
   "execution_count": 11,
   "metadata": {},
   "outputs": [
    {
     "name": "stdout",
     "output_type": "stream",
     "text": [
      "{'created': datetime.datetime(2023, 8, 8, 12, 39, 39, 904153, tzinfo=tzutc()),\n",
      " 'exit_code': None,\n",
      " 'id': 649180,\n",
      " 'name': 'created',\n",
      " 'paused': None,\n",
      " 'time': 0.0}\n"
     ]
    }
   ],
   "source": [
    "#check the status of the simulation with:\n",
    "status = THREEDI_API.simulations_status_list(my_simulation.id)\n",
    "print(status)"
   ]
  },
  {
   "cell_type": "markdown",
   "metadata": {},
   "source": [
    "We can see the simulation has not started yet. The options at the name of the status can be: \"created\", \"started\" and \"finished\"."
   ]
  },
  {
   "cell_type": "markdown",
   "metadata": {},
   "source": [
    "**Step 2: Adding events to this 3Di-simulation by using the threedi-api**"
   ]
  },
  {
   "cell_type": "markdown",
   "metadata": {},
   "source": [
    "In the previous step we created a simulation for the 3Di model of rockflow. Several events can be added to this 3Di-simulation:\n",
    "\n",
    "* initial waterlevels\n",
    "* rain\n",
    "* breaches\n",
    "* laterals\n"
   ]
  },
  {
   "cell_type": "code",
   "execution_count": 18,
   "metadata": {},
   "outputs": [
    {
     "data": {
      "text/plain": [
       "{'duration': 3000000,\n",
       " 'grid_id': None,\n",
       " 'id': 12359,\n",
       " 'measure_specification': {'id': 12354,\n",
       "                           'locations': [{'content_pk': 5,\n",
       "                                          'content_type': 'v2_connection_node',\n",
       "                                          'grid_id': None,\n",
       "                                          'id': 12354,\n",
       "                                          'state': 'processing',\n",
       "                                          'state_detail': None,\n",
       "                                          'weight': '1.00'}],\n",
       "                           'name': 'Oystershell',\n",
       "                           'operator': '<',\n",
       "                           'variable': 's1'},\n",
       " 'offset': 0,\n",
       " 'state': 'processing',\n",
       " 'state_detail': None,\n",
       " 'structure_id': 2,\n",
       " 'structure_type': 'v2_weir',\n",
       " 'type': 'set_discharge_coefficients',\n",
       " 'uid': '810b2ccb-7fb9-4d6c-8d10-f8e831391347',\n",
       " 'url': 'https://api.3di.live/v3/simulations/142413/events/structure-control/table/12359/',\n",
       " 'values': [[0.5, 0.001, 0.6], [10.0, 0.0006, 0.6]]}"
      ]
     },
     "execution_count": 18,
     "metadata": {},
     "output_type": "execute_result"
    }
   ],
   "source": [
    "THREEDI_API.simulations_events_structure_control_table_create(simulation_pk=my_simulation.id, data = \n",
    "        {\n",
    "            \"offset\": 0,\n",
    "            \"duration\": 3000000,\n",
    "            \"measure_specification\": {\n",
    "                \"name\": \"Oystershell\",\n",
    "                \"locations\": [\n",
    "                    {\n",
    "                        \"weight\": \"1.00\",\n",
    "                        \"content_type\": \"v2_connection_node\",\n",
    "                        \"content_pk\": 5\n",
    "                    }\n",
    "                ],\n",
    "                \"variable\": \"s1\",\n",
    "                \"operator\": \"<\"\n",
    "            },\n",
    "            \"structure_id\": 2,\n",
    "            \"structure_type\": \"v2_weir\",\n",
    "            \"type\": \"set_discharge_coefficients\",\n",
    "            \"values\": [\n",
    "                [\n",
    "                    0.5,\n",
    "                    0.0010,\n",
    "\t\t\t\t\t0.6\n",
    "                ],\n",
    "                [\n",
    "                    10,\n",
    "                    0.0006,\n",
    "\t\t\t\t\t0.6\n",
    "                ]\n",
    "            ]\n",
    "        }\n",
    "        )"
   ]
  },
  {
   "cell_type": "code",
   "execution_count": 19,
   "metadata": {},
   "outputs": [
    {
     "data": {
      "text/plain": [
       "{'duration': 3000000,\n",
       " 'grid_id': None,\n",
       " 'id': 12360,\n",
       " 'measure_specification': {'id': 12355,\n",
       "                           'locations': [{'content_pk': 4,\n",
       "                                          'content_type': 'v2_connection_node',\n",
       "                                          'grid_id': None,\n",
       "                                          'id': 12355,\n",
       "                                          'state': 'processing',\n",
       "                                          'state_detail': None,\n",
       "                                          'weight': '1.00'}],\n",
       "                           'name': 'Clamshell',\n",
       "                           'operator': '<',\n",
       "                           'variable': 's1'},\n",
       " 'offset': 0,\n",
       " 'state': 'processing',\n",
       " 'state_detail': None,\n",
       " 'structure_id': 3,\n",
       " 'structure_type': 'v2_weir',\n",
       " 'type': 'set_discharge_coefficients',\n",
       " 'uid': 'd9bc572b-1b53-45c7-82ce-b3d811b1f14d',\n",
       " 'url': 'https://api.3di.live/v3/simulations/142413/events/structure-control/table/12360/',\n",
       " 'values': [[0.5, 0.0005, 1.0], [10.0, 0.0002, 1.0]]}"
      ]
     },
     "execution_count": 19,
     "metadata": {},
     "output_type": "execute_result"
    }
   ],
   "source": [
    "THREEDI_API.simulations_events_structure_control_table_create(simulation_pk=my_simulation.id, data =\n",
    "\t\t{\n",
    "            \"offset\": 0,\n",
    "            \"duration\": 3000000,\n",
    "            \"measure_specification\": {\n",
    "                \"name\": \"Clamshell\",\n",
    "                \"locations\": [\n",
    "                    {\n",
    "                        \"weight\": \"1.00\",\n",
    "                        \"content_type\": \"v2_connection_node\",\n",
    "                        \"content_pk\": 4\n",
    "                    }\n",
    "                ],\n",
    "                \"variable\": \"s1\",\n",
    "                \"operator\": \"<\"\n",
    "            },\n",
    "            \"structure_id\": 3,\n",
    "            \"structure_type\": \"v2_weir\",\n",
    "            \"type\": \"set_discharge_coefficients\",\n",
    "            \"values\": [\n",
    "                \t\t\t\t[\n",
    "                    0.5,\n",
    "                    0.0005,\n",
    "\t\t\t\t\t1\n",
    "                ],\n",
    "                [\n",
    "                    10,\n",
    "                    0.0002,\n",
    "\t\t\t\t\t1\n",
    "                ],\n",
    "            ]\n",
    "        })                                "
   ]
  },
  {
   "cell_type": "code",
   "execution_count": 20,
   "metadata": {},
   "outputs": [
    {
     "data": {
      "text/plain": [
       "{'duration': 3000000,\n",
       " 'grid_id': None,\n",
       " 'id': 12361,\n",
       " 'measure_specification': {'id': 12356,\n",
       "                           'locations': [{'content_pk': 32,\n",
       "                                          'content_type': 'v2_connection_node',\n",
       "                                          'grid_id': None,\n",
       "                                          'id': 12356,\n",
       "                                          'state': 'processing',\n",
       "                                          'state_detail': None,\n",
       "                                          'weight': '1.00'}],\n",
       "                           'name': 'CaptainsQuarters',\n",
       "                           'operator': '<',\n",
       "                           'variable': 's1'},\n",
       " 'offset': 0,\n",
       " 'state': 'processing',\n",
       " 'state_detail': None,\n",
       " 'structure_id': 4,\n",
       " 'structure_type': 'v2_weir',\n",
       " 'type': 'set_discharge_coefficients',\n",
       " 'uid': '08d9a5c5-3604-4625-9cff-61809b2744f9',\n",
       " 'url': 'https://api.3di.live/v3/simulations/142413/events/structure-control/table/12361/',\n",
       " 'values': [[0.5, 0.0005, 1.0], [10.0, 0.0002, 1.0]]}"
      ]
     },
     "execution_count": 20,
     "metadata": {},
     "output_type": "execute_result"
    }
   ],
   "source": [
    "THREEDI_API.simulations_events_structure_control_table_create(simulation_pk=my_simulation.id, data =\n",
    "\t\t{\n",
    "            \"offset\": 0,\n",
    "            \"duration\": 3000000,\n",
    "            \"measure_specification\": {\n",
    "                \"name\": \"CaptainsQuarters\",\n",
    "                \"locations\": [\n",
    "                    {\n",
    "                        \"weight\": \"1.00\",\n",
    "                        \"content_type\": \"v2_connection_node\",\n",
    "                        \"content_pk\": 32\n",
    "                    }\n",
    "                ],\n",
    "                \"variable\": \"s1\",\n",
    "                \"operator\": \"<\"\n",
    "            },\n",
    "            \"structure_id\": 4,\n",
    "            \"structure_type\": \"v2_weir\",\n",
    "            \"type\": \"set_discharge_coefficients\",\n",
    "            \"values\": [\n",
    "                \t\t\t\t[\n",
    "                    0.5,\n",
    "                    0.0005,\n",
    "\t\t\t\t\t1\n",
    "                ],\n",
    "                [\n",
    "                    10,\n",
    "                    0.0002,\n",
    "\t\t\t\t\t1\n",
    "                ],\n",
    "            ]\n",
    "        })                                "
   ]
  },
  {
   "cell_type": "code",
   "execution_count": 2,
   "metadata": {},
   "outputs": [
    {
     "name": "stdout",
     "output_type": "stream",
     "text": [
      "Variables:\n",
      "- timestep\n",
      "- value\n",
      "\n",
      "Dimensions:\n",
      "- data_points: 3157\n",
      "Timesteps:\n",
      "[ 5 10 15 20 25 30 35 40 45 50]\n",
      "Values:\n",
      "[0. 0. 0. 0. 0. 0. 0. 0. 0. 0.]\n"
     ]
    }
   ],
   "source": [
    "dataset = nc.Dataset(output_nc_file_path, 'r')\n",
    "\n",
    "# Print the list of variables and dimensions\n",
    "print(\"Variables:\")\n",
    "for var_name in dataset.variables:\n",
    "    print(f\"- {var_name}\")\n",
    "\n",
    "print(\"\\nDimensions:\")\n",
    "for dim_name, dim in dataset.dimensions.items():\n",
    "    print(f\"- {dim_name}: {len(dim)}\")\n",
    "\n",
    "timestep_var = dataset.variables['timestep']\n",
    "print(\"Timesteps:\")\n",
    "print(timestep_var[:10])\n",
    "\n",
    "timestep_var = dataset.variables['value']\n",
    "print(\"Values:\")\n",
    "print(timestep_var[:10])"
   ]
  },
  {
   "cell_type": "code",
   "execution_count": 23,
   "metadata": {},
   "outputs": [
    {
     "data": {
      "text/plain": [
       "{'filename': 'CUsersththelenDownloadsoutput.nc',\n",
       " 'put_url': 'https://files.3di.live/3di/742912/CUsersththelenDownloadsoutput.nc?AWSAccessKeyId=3di&Signature=Sw8ZyJOI1OTXPEWCBjYu%2FWxCF6A%3D&Expires=1691590058',\n",
       " 'status': None}"
      ]
     },
     "execution_count": 23,
     "metadata": {},
     "output_type": "execute_result"
    }
   ],
   "source": [
    "THREEDI_API.simulations_events_rain_timeseries_netcdf_create(simulation_pk=my_simulation.id, data =\n",
    "    {\"filename\": output_nc_file_path})"
   ]
  },
  {
   "cell_type": "code",
   "execution_count": 26,
   "metadata": {},
   "outputs": [
    {
     "data": {
      "text/plain": [
       "{'count': 1,\n",
       " 'next': None,\n",
       " 'previous': None,\n",
       " 'results': [{'file': {'bucket': '3di',\n",
       "                       'etag': None,\n",
       "                       'expiry_date': datetime.date(2023, 8, 15),\n",
       "                       'filename': 'CUsersththelenDownloadsoutput.json',\n",
       "                       'id': 743108,\n",
       "                       'meta': None,\n",
       "                       'prefix': None,\n",
       "                       'related_object': 'https://api.3di.live/v3/simulations/142446/events/boundaryconditions/file/57405/',\n",
       "                       'size': None,\n",
       "                       'state': 'created',\n",
       "                       'state_description': None,\n",
       "                       'storage_name': 'MINIO_DEV',\n",
       "                       'type': 'bulk_boundaryconditions',\n",
       "                       'url': 'https://api.3di.live/v3/files/743108/'},\n",
       "              'id': 57405,\n",
       "              'simulation': 'https://api.3di.live/v3/simulations/142446/',\n",
       "              'state': 'processing',\n",
       "              'state_detail': None,\n",
       "              'uid': '0ea0fb05-202e-4e5d-bd49-dc6945498991',\n",
       "              'url': 'https://api.3di.live/v3/simulations/142446/events/boundaryconditions/file/57405/'}]}"
      ]
     },
     "execution_count": 26,
     "metadata": {},
     "output_type": "execute_result"
    }
   ],
   "source": [
    "THREEDI_API.simulations_events_boundaryconditions_file_list(simulation_pk=my_simulation.id)"
   ]
  },
  {
   "cell_type": "code",
   "execution_count": 29,
   "metadata": {},
   "outputs": [],
   "source": [
    "# manually enter results[id] integert in for this API call ID number\n",
    "THREEDI_API.simulations_events_boundaryconditions_file_delete(id = 57405, simulation_pk=my_simulation.id)\n",
    "THREEDI_API.simulations_events_boundaryconditions_file_create(simulation_pk=my_simulation.id, data = \n",
    "{'filename' : json_file_path})"
   ]
  },
  {
   "cell_type": "code",
   "execution_count": 16,
   "metadata": {},
   "outputs": [
    {
     "data": {
      "text/plain": [
       "{'count': 0, 'next': None, 'previous': None, 'results': []}"
      ]
     },
     "execution_count": 16,
     "metadata": {},
     "output_type": "execute_result"
    }
   ],
   "source": [
    "THREEDI_API.simulations_initial2d_water_level_constant_list(simulation_pk=my_simulation.id)"
   ]
  },
  {
   "cell_type": "code",
   "execution_count": 18,
   "metadata": {},
   "outputs": [
    {
     "data": {
      "text/plain": [
       "{'id': 34090,\n",
       " 'simulation': 'https://api.3di.live/v3/simulations/142607/',\n",
       " 'uid': '4354cedb-eaef-4b57-85dd-86545bb9e72c',\n",
       " 'url': 'https://api.3di.live/v3/simulations/142607/initial/2d_water_level/constant/34090/',\n",
       " 'value': 1.0}"
      ]
     },
     "execution_count": 18,
     "metadata": {},
     "output_type": "execute_result"
    }
   ],
   "source": [
    "THREEDI_API.simulations_initial2d_water_level_constant_delete(id = 34089, simulation_pk=my_simulation.id)\n",
    "THREEDI_API.simulations_initial2d_water_level_constant_create(simulation_pk=my_simulation.id, data =\n",
    "{\"value\": 1})"
   ]
  },
  {
   "cell_type": "markdown",
   "metadata": {},
   "source": [
    "2.3 We can get an overview of the added events to our 3Di-simulation by the following api-call:"
   ]
  },
  {
   "cell_type": "code",
   "execution_count": 20,
   "metadata": {
    "scrolled": true
   },
   "outputs": [
    {
     "name": "stdout",
     "output_type": "stream",
     "text": [
      "{'breach': [],\n",
      " 'fileboundaryconditions': {'file': {'bucket': '3di',\n",
      "                                     'etag': 'f58cc182838b2937e2d44b668425902c',\n",
      "                                     'expiry_date': datetime.date(2123, 6, 24),\n",
      "                                     'filename': 'boundaries_faff6195.json',\n",
      "                                     'id': 723060,\n",
      "                                     'meta': {'event_count': 3,\n",
      "                                              'timeframes': [0, 5999940]},\n",
      "                                     'prefix': None,\n",
      "                                     'related_object': 'https://api.3di.live/v3/simulations/138845/events/boundaryconditions/file/55088/',\n",
      "                                     'size': 252,\n",
      "                                     'state': 'processed',\n",
      "                                     'state_description': 'File has been '\n",
      "                                                          'uploaded '\n",
      "                                                          'successfully',\n",
      "                                     'storage_name': 'MINIO_DEV',\n",
      "                                     'type': 'bulk_boundaryconditions',\n",
      "                                     'url': 'https://api.3di.live/v3/files/723060/'},\n",
      "                            'id': 57500,\n",
      "                            'simulation': 'https://api.3di.live/v3/simulations/142607/',\n",
      "                            'state': 'valid',\n",
      "                            'state_detail': {'event_count': 3,\n",
      "                                             'timeframes': [0.0, 5999940.0]},\n",
      "                            'uid': 'f5acd3a1-e499-43b3-a904-12b5af1f1d88',\n",
      "                            'url': 'https://api.3di.live/v3/simulations/142607/events/boundaryconditions/file/57500/'},\n",
      " 'filelaterals': [],\n",
      " 'filerasterleakage': [],\n",
      " 'filerasterrain': [],\n",
      " 'filerastersourcessinks': [],\n",
      " 'filestructurecontrols': [],\n",
      " 'filetimeseriesleakage': [],\n",
      " 'filetimeseriesrain': [],\n",
      " 'filetimeseriessourcessinks': [],\n",
      " 'initial_groundwaterlevel': None,\n",
      " 'initial_groundwaterraster': None,\n",
      " 'initial_onedwaterlevel': None,\n",
      " 'initial_onedwaterlevelfile': {'id': 53582,\n",
      "                                'initial_waterlevel': 'https://api.3di.live/v3/threedimodels/58509/initial_waterlevels/12418/',\n",
      "                                'initial_waterlevel_id': 12418,\n",
      "                                'simulation': 'https://api.3di.live/v3/simulations/142607/',\n",
      "                                'uid': '5218b1c5-d3fc-46fa-ad58-b953289ac5db',\n",
      "                                'url': 'https://api.3di.live/v3/simulations/142607/initial/1d_water_level/file/53582/'},\n",
      " 'initial_onedwaterlevelpredefined': None,\n",
      " 'initial_savedstate': None,\n",
      " 'initial_twodwaterlevel': {'id': 34090,\n",
      "                            'simulation': 'https://api.3di.live/v3/simulations/142607/',\n",
      "                            'uid': '4354cedb-eaef-4b57-85dd-86545bb9e72c',\n",
      "                            'url': 'https://api.3di.live/v3/simulations/142607/initial/2d_water_level/constant/34090/',\n",
      "                            'value': 1.0},\n",
      " 'initial_twodwaterraster': None,\n",
      " 'initial_winddragcoefficient': None,\n",
      " 'laterals': [],\n",
      " 'leakage': [],\n",
      " 'lizardrasterrain': [],\n",
      " 'lizardrastersourcessinks': [],\n",
      " 'lizardtimeseriesrain': [],\n",
      " 'lizardtimeseriessourcessinks': [],\n",
      " 'localrain': [],\n",
      " 'memorystructurecontrols': [],\n",
      " 'obstacleedits': [],\n",
      " 'rasteredits': [],\n",
      " 'savedstates': [],\n",
      " 'tablestructurecontrols': [],\n",
      " 'timedstructurecontrols': [],\n",
      " 'timeseriesrain': [],\n",
      " 'timeseriessourcessinks': [],\n",
      " 'wind': []}\n"
     ]
    }
   ],
   "source": [
    "events = THREEDI_API.simulations_events(my_simulation.id)\n",
    "#print(events.timeseriesrain)\n",
    "print(events)"
   ]
  },
  {
   "cell_type": "markdown",
   "metadata": {},
   "source": [
    "So, we can indeed see here that we have only added the constant rain event to our 3di-simulation."
   ]
  },
  {
   "cell_type": "markdown",
   "metadata": {},
   "source": [
    "**Step 3: Running the 3Di-simulation by using the threedi-api**"
   ]
  },
  {
   "cell_type": "markdown",
   "metadata": {},
   "source": [
    "We will now start our simulation with the constant rain event:"
   ]
  },
  {
   "cell_type": "code",
   "execution_count": 18,
   "metadata": {},
   "outputs": [
    {
     "data": {
      "text/plain": [
       "{'compute_cluster': None,\n",
       " 'duration': None,\n",
       " 'max_rate': None,\n",
       " 'name': 'start',\n",
       " 'timeout': 300}"
      ]
     },
     "execution_count": 18,
     "metadata": {},
     "output_type": "execute_result"
    }
   ],
   "source": [
    "THREEDI_API.simulations_actions_create(my_simulation.id, data={\"name\": \"start\"})"
   ]
  },
  {
   "cell_type": "markdown",
   "metadata": {},
   "source": [
    "We can check the status of the 3Di-simulation with:"
   ]
  },
  {
   "cell_type": "code",
   "execution_count": 19,
   "metadata": {},
   "outputs": [
    {
     "name": "stdout",
     "output_type": "stream",
     "text": [
      "{'created': datetime.datetime(2023, 1, 23, 16, 1, 47, 653607, tzinfo=tzutc()),\n",
      " 'exit_code': None,\n",
      " 'id': 519176,\n",
      " 'name': 'starting',\n",
      " 'paused': None,\n",
      " 'time': 0.0}\n"
     ]
    }
   ],
   "source": [
    "#check the status of the simulation with:\n",
    "status = THREEDI_API.simulations_status_list(my_simulation.id)\n",
    "print(status)"
   ]
  },
  {
   "cell_type": "markdown",
   "metadata": {},
   "source": [
    "In the end we must see that our simulation has finished:"
   ]
  },
  {
   "cell_type": "code",
   "execution_count": 20,
   "metadata": {},
   "outputs": [
    {
     "name": "stdout",
     "output_type": "stream",
     "text": [
      "{'created': datetime.datetime(2023, 1, 23, 16, 1, 47, 653607, tzinfo=tzutc()),\n",
      " 'exit_code': None,\n",
      " 'id': 519176,\n",
      " 'name': 'starting',\n",
      " 'paused': None,\n",
      " 'time': 0.0}\n"
     ]
    }
   ],
   "source": [
    "#check the status of the simulation with:\n",
    "status = THREEDI_API.simulations_status_list(my_simulation.id)\n",
    "print(status)"
   ]
  },
  {
   "cell_type": "markdown",
   "metadata": {},
   "source": [
    "\n",
    "**-----------------------------------------------------------------------------------------------------------------------------------------------------------------------------------------------------------------**\n",
    "The end\n",
    "\n",
    "In this tutorial we showed you:\n",
    "- how to start a simulation of a 3Di-model, \n",
    "- how to add a simple rain event to your simulation, \n",
    "- how to download the results of the model simulation,\n",
    "- and in the end how to visualise your model and how to use threedigrid to do any analysis on the results.\n",
    "\n",
    "And all possible within a Jupyter notebook by making use of the API-v3. Ofcourse there are a lot more options for the analysis possible, by using threedigrid. Or for the events you can add to your simulation. Do you want to learn more or are you interested in some more possible analysis in a jupyter notebook? \n",
    "\n",
    "**Please contact**:\n",
    "\n",
    "Olof Baltus | olof.baltus@nelen-schuurmans.nl\n",
    "\n",
    "Jonas van Schrojenstein | jonas.vanschrojenstein@nelen-schuurmans.nl\n"
   ]
  },
  {
   "cell_type": "markdown",
   "metadata": {},
   "source": [
    "**Utilites by TT**"
   ]
  },
  {
   "cell_type": "code",
   "execution_count": null,
   "metadata": {},
   "outputs": [],
   "source": [
    "# Function to write .json boundary condition files (for API) from .csv files formatted for modeler interface upload\n",
    "\n",
    "import csv\n",
    "import json\n",
    "\n",
    "def csv_to_json(csv_file_path, json_file_path):\n",
    "    data_list = []\n",
    "\n",
    "    with open(csv_file_path, 'r') as csv_file:\n",
    "        csv_reader = csv.reader(csv_file)\n",
    "        next(csv_reader)  # Skip header row\n",
    "\n",
    "        for row in csv_reader:\n",
    "            id_value = int(row[0])\n",
    "            timeseries = row[1].replace('\"', '').split('\\n')\n",
    "\n",
    "            values = [list(map(float, point.split(','))) for point in timeseries]\n",
    "\n",
    "            data_list.append({\n",
    "                \"id\": id_value,\n",
    "                \"type\": \"2D\",\n",
    "                \"interpolate\": False,\n",
    "                \"values\": values\n",
    "            })\n",
    "\n",
    "    with open(json_file_path, 'w') as json_file:\n",
    "        json.dump(data_list, json_file, indent=4)\n",
    "\n",
    "# Example usage:\n",
    "csv_file_path = r\"C:\\Users\\ththelen\\OneDrive - North Carolina State University\\CarolinaBeach\\3Di\\bcFiles\\august2022\\offset0_13\\bc3di_tidesAndAtm_aug2022.csv\"\n",
    "json_file_path = r\"C:\\Users\\ththelen\\OneDrive - North Carolina State University\\CarolinaBeach\\3Di\\bcFiles\\august2022\\offset0_13\\bc3di_tidesAndAtm_aug2022.json\"\n",
    "csv_to_json(csv_file_path, json_file_path)"
   ]
  },
  {
   "cell_type": "code",
   "execution_count": null,
   "metadata": {},
   "outputs": [],
   "source": [
    "# Function to write netCDF boundary condition files (for API) from .csv files formatted for modeler interface upload\n",
    "\n",
    "import netCDF4 as nc\n",
    "\n",
    "def csv_to_netcdf(csv_file_path, output_nc_file_path):\n",
    "    # Read data from CSV file\n",
    "    timesteps = []\n",
    "    values = []\n",
    "    with open(csv_file_path, 'r') as file:\n",
    "        for line in file:\n",
    "            timestep, value = line.strip().split(',')\n",
    "            timesteps.append(int(timestep))\n",
    "            values.append(float(value))\n",
    "    \n",
    "    # Create a new NetCDF file\n",
    "    with nc.Dataset(output_nc_file_path, 'w', format='NETCDF4') as dataset:\n",
    "        dataset.createDimension('data_points', len(timesteps))\n",
    "        \n",
    "        timestep_var = dataset.createVariable('timestep', 'i4', ('data_points',))\n",
    "        value_var = dataset.createVariable('value', 'f8', ('data_points',))\n",
    "        \n",
    "        timestep_var[:] = timesteps\n",
    "        value_var[:] = values\n",
    "\n",
    "# Example usage:\n",
    "csv_file_path = r\"C:\\Users\\ththelen\\OneDrive - North Carolina State University\\CarolinaBeach\\3Di\\bcFiles\\august2022\\cbRain_20220813_20220824_5min.csv\"\n",
    "output_nc_file_path = r'C:\\Users\\ththelen\\Downloads\\output.nc'\n",
    "csv_to_netcdf(csv_file_path, output_nc_file_path)\n",
    "\n",
    "# Review results\n",
    "dataset = nc.Dataset(output_nc_file_path, 'r')\n",
    "\n",
    "# Print the list of variables and dimensions\n",
    "print(\"Variables:\")\n",
    "for var_name in dataset.variables:\n",
    "    print(f\"- {var_name}\")\n",
    "\n",
    "print(\"\\nDimensions:\")\n",
    "for dim_name, dim in dataset.dimensions.items():\n",
    "    print(f\"- {dim_name}: {len(dim)}\")\n",
    "\n",
    "timestep_var = dataset.variables['timestep']\n",
    "print(\"Timesteps:\")\n",
    "print(timestep_var[:10])\n",
    "\n",
    "timestep_var = dataset.variables['value']\n",
    "print(\"Values:\")\n",
    "print(timestep_var[:10])"
   ]
  }
 ],
 "metadata": {
  "kernelspec": {
   "display_name": "Python 3 (ipykernel)",
   "language": "python",
   "name": "python3"
  },
  "language_info": {
   "codemirror_mode": {
    "name": "ipython",
    "version": 3
   },
   "file_extension": ".py",
   "mimetype": "text/x-python",
   "name": "python",
   "nbconvert_exporter": "python",
   "pygments_lexer": "ipython3",
   "version": "3.9.12"
  },
  "varInspector": {
   "cols": {
    "lenName": 16,
    "lenType": 16,
    "lenVar": 40
   },
   "kernels_config": {
    "python": {
     "delete_cmd_postfix": "",
     "delete_cmd_prefix": "del ",
     "library": "var_list.py",
     "varRefreshCmd": "print(var_dic_list())"
    },
    "r": {
     "delete_cmd_postfix": ") ",
     "delete_cmd_prefix": "rm(",
     "library": "var_list.r",
     "varRefreshCmd": "cat(var_dic_list()) "
    }
   },
   "types_to_exclude": [
    "module",
    "function",
    "builtin_function_or_method",
    "instance",
    "_Feature"
   ],
   "window_display": false
  }
 },
 "nbformat": 4,
 "nbformat_minor": 4
}
